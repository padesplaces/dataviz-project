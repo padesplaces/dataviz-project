{
 "cells": [
  {
   "cell_type": "code",
   "execution_count": 1,
   "metadata": {},
   "outputs": [],
   "source": [
    "import numpy as np\n",
    "from requests import get\n",
    "from bs4 import BeautifulSoup\n",
    "import pickle"
   ]
  },
  {
   "cell_type": "code",
   "execution_count": 2,
   "metadata": {},
   "outputs": [],
   "source": [
    "response = get('https://blog.feedspot.com/usa_news_websites/').text"
   ]
  },
  {
   "cell_type": "code",
   "execution_count": 3,
   "metadata": {},
   "outputs": [],
   "source": [
    "html = BeautifulSoup(response, 'html.parser')"
   ]
  },
  {
   "cell_type": "code",
   "execution_count": 4,
   "metadata": {},
   "outputs": [
    {
     "name": "stdout",
     "output_type": "stream",
     "text": [
      "us.cnn.com\n",
      "nytimes.com\n",
      "huffingtonpost.com\n",
      "foxnews.com\n",
      "usatoday.com\n",
      "reuters.com\n",
      "politico.com\n",
      "yahoo.com\n",
      "npr.org\n",
      "latimes.com\n",
      "nbcnews.com\n",
      "cbsnews.com\n",
      "blog.feedspot.com\n",
      "abcnews.go.com\n",
      "nydailynews.com\n",
      "breitbart.com\n",
      "newsweek.com\n",
      "denverpost.com\n",
      "washington.cbslocal.com\n",
      "sanfrancisco.cbslocal.com\n",
      "tampa.cbslocal.com\n",
      "newyork.cbslocal.com\n",
      "blog.feedspot.com\n",
      "boston.cbslocal.com\n",
      "blog.feedspot.com\n",
      "blog.feedspot.com\n",
      "blog.feedspot.com\n",
      "blog.feedspot.com\n",
      "chicago.cbslocal.com\n",
      "blog.feedspot.com\n",
      "blog.feedspot.com\n",
      "newsmax.com\n",
      "washingtontimes.com\n",
      "boston.com\n",
      "blog.feedspot.com\n",
      "mercurynews.com\n",
      "seattletimes.com\n",
      "blog.feedspot.com\n",
      "observer.com\n",
      "stltoday.com\n",
      "seattlepi.com\n",
      "blog.feedspot.com\n",
      "newsday.com\n",
      "chicago.suntimes.com\n",
      "blog.feedspot.com\n",
      "blog.feedspot.com\n",
      "bostonherald.com\n",
      "wtop.com\n",
      "wgntv.com\n",
      "nbcnewyork.com\n",
      "abc7news.com\n",
      "blog.feedspot.com\n",
      "kdvr.com\n",
      "gothamist.com\n",
      "autonews.com\n",
      "twincities.com\n",
      "nbcchicago.com\n",
      "nbcwashington.com\n",
      "phillyvoice.com\n",
      "fox2now.com\n",
      "brooklyn.news12.com\n",
      "nbclosangeles.com\n",
      "miaminewtimes.com\n",
      "villagevoice.com\n",
      "westword.com\n",
      "nbcphiladelphia.com\n",
      "nbcsandiego.com\n",
      "kron4.com\n",
      "pix11.com\n",
      "dailyherald.com\n",
      "nbcdfw.com\n",
      "arlington.wickedlocal.com\n",
      "amny.com\n",
      "blog.feedspot.com\n",
      "wfla.com\n",
      "wsvn.com\n",
      "blog.feedspot.com\n",
      "houstonpress.com\n",
      "pe.com\n",
      "wxyz.com\n",
      "whdh.com\n",
      "blog.feedspot.com\n",
      "nbcmiami.com\n",
      "riverfronttimes.com\n",
      "abcactionnews.com\n",
      "wivb.com\n",
      "chicagoreader.com\n",
      "minnpost.com\n",
      "metrotimes.com\n",
      "blog.feedspot.com\n",
      "billypenn.com\n",
      "laobserved.com\n",
      "citylimits.org\n",
      "miamitodaynews.com\n",
      "kplr11.com\n",
      "heartlandnewsfeed.com\n",
      "pridepublishinggroup.com\n",
      "foresthillstimes.com\n",
      "americanstripe.com\n",
      "nysun.com\n",
      "timesofsandiego.com\n",
      "atlantaintownpaper.com\n",
      "laindependent.com\n",
      "news10.com\n"
     ]
    },
    {
     "ename": "TypeError",
     "evalue": "'NoneType' object is not subscriptable",
     "output_type": "error",
     "traceback": [
      "\u001b[0;31m---------------------------------------------------------------------------\u001b[0m",
      "\u001b[0;31mTypeError\u001b[0m                                 Traceback (most recent call last)",
      "\u001b[0;32m<ipython-input-4-f3f2bcb56a28>\u001b[0m in \u001b[0;36m<module>\u001b[0;34m()\u001b[0m\n\u001b[1;32m      1\u001b[0m \u001b[0;32mfor\u001b[0m \u001b[0mp\u001b[0m \u001b[0;32min\u001b[0m \u001b[0mhtml\u001b[0m\u001b[0;34m.\u001b[0m\u001b[0mfind\u001b[0m\u001b[0;34m(\u001b[0m\u001b[0;34m\"div\"\u001b[0m\u001b[0;34m,\u001b[0m \u001b[0;34m{\u001b[0m\u001b[0;34m\"id\"\u001b[0m\u001b[0;34m:\u001b[0m \u001b[0;34m\"fsb\"\u001b[0m\u001b[0;34m}\u001b[0m\u001b[0;34m)\u001b[0m\u001b[0;34m.\u001b[0m\u001b[0mselect\u001b[0m\u001b[0;34m(\u001b[0m\u001b[0;34m\"p\"\u001b[0m\u001b[0;34m)\u001b[0m\u001b[0;34m:\u001b[0m\u001b[0;34m\u001b[0m\u001b[0m\n\u001b[0;32m----> 2\u001b[0;31m     \u001b[0murl\u001b[0m \u001b[0;34m=\u001b[0m \u001b[0mp\u001b[0m\u001b[0;34m.\u001b[0m\u001b[0mfind\u001b[0m\u001b[0;34m(\u001b[0m\u001b[0;34m\"a\"\u001b[0m\u001b[0;34m)\u001b[0m\u001b[0;34m[\u001b[0m\u001b[0;34m\"href\"\u001b[0m\u001b[0;34m]\u001b[0m\u001b[0;34m.\u001b[0m\u001b[0msplit\u001b[0m\u001b[0;34m(\u001b[0m\u001b[0;34m\"/\"\u001b[0m\u001b[0;34m)\u001b[0m\u001b[0;34m[\u001b[0m\u001b[0;36m2\u001b[0m\u001b[0;34m]\u001b[0m\u001b[0;34m\u001b[0m\u001b[0m\n\u001b[0m\u001b[1;32m      3\u001b[0m     \u001b[0;32mif\u001b[0m \u001b[0murl\u001b[0m\u001b[0;34m[\u001b[0m\u001b[0;34m:\u001b[0m\u001b[0;36m3\u001b[0m\u001b[0;34m]\u001b[0m \u001b[0;34m==\u001b[0m \u001b[0;34m\"www\"\u001b[0m\u001b[0;34m:\u001b[0m\u001b[0;34m\u001b[0m\u001b[0m\n\u001b[1;32m      4\u001b[0m         \u001b[0murl\u001b[0m \u001b[0;34m=\u001b[0m \u001b[0murl\u001b[0m\u001b[0;34m[\u001b[0m\u001b[0;36m4\u001b[0m\u001b[0;34m:\u001b[0m\u001b[0;34m]\u001b[0m\u001b[0;34m\u001b[0m\u001b[0m\n\u001b[1;32m      5\u001b[0m     \u001b[0mprint\u001b[0m\u001b[0;34m(\u001b[0m\u001b[0murl\u001b[0m\u001b[0;34m)\u001b[0m\u001b[0;34m\u001b[0m\u001b[0m\n",
      "\u001b[0;31mTypeError\u001b[0m: 'NoneType' object is not subscriptable"
     ]
    }
   ],
   "source": [
    "for p in html.find(\"div\", {\"id\": \"fsb\"}).select(\"p\"):\n",
    "    url = p.find(\"a\")[\"href\"].split(\"/\")[2]\n",
    "    if url[:3] == \"www\":\n",
    "        url = url[4:]\n",
    "    print(url)"
   ]
  },
  {
   "cell_type": "code",
   "execution_count": 11,
   "metadata": {},
   "outputs": [
    {
     "data": {
      "text/plain": [
       "105"
      ]
     },
     "execution_count": 11,
     "metadata": {},
     "output_type": "execute_result"
    }
   ],
   "source": [
    "len(html.find(\"div\", {\"id\": \"fsb\"}).select(\"p\"))"
   ]
  },
  {
   "cell_type": "code",
   "execution_count": 16,
   "metadata": {},
   "outputs": [],
   "source": [
    "sources = []\n",
    "for p in html.find(\"div\", {\"id\": \"fsb\"}).select(\"p\"):\n",
    "    url = p.find(\"a\", {\"class\": \"ext\"})\n",
    "    if url is not None:\n",
    "        sources.append(str(url.text.split(\"/\")[0]))"
   ]
  },
  {
   "cell_type": "code",
   "execution_count": 17,
   "metadata": {
    "scrolled": true
   },
   "outputs": [],
   "source": [
    "names = []\n",
    "for p in html.find(\"div\", {\"id\": \"fsb\"}).select(\"h3\"):\n",
    "    name = p.find(\"a\", {\"class\": \"tlink\"}).text\n",
    "    names.append(name.split(\"»\")[0].split(\"|\")[0].split(\"-\")[0])"
   ]
  },
  {
   "cell_type": "code",
   "execution_count": 19,
   "metadata": {},
   "outputs": [],
   "source": [
    "with open(\"data/map_sources_url_to_name.pkl\", \"wb\") as f:\n",
    "    pickle.dump(dict(zip(sources,names)),f)"
   ]
  },
  {
   "cell_type": "code",
   "execution_count": 52,
   "metadata": {
    "scrolled": true
   },
   "outputs": [],
   "source": [
    "np.savetxt(\"sources.csv\", np.asarray(sources)[np.newaxis].T, delimiter=\",\", fmt=\"%s\")"
   ]
  },
  {
   "cell_type": "code",
   "execution_count": 65,
   "metadata": {},
   "outputs": [],
   "source": [
    "with open(\"data/sources_from_top_in_gdelt.pkl\", \"rb\") as f:\n",
    "    sources_in_data = pickle.load(f)"
   ]
  },
  {
   "cell_type": "code",
   "execution_count": 70,
   "metadata": {
    "scrolled": true
   },
   "outputs": [
    {
     "data": {
      "text/plain": [
       "{'abc13.com',\n",
       " 'abc7news.com',\n",
       " 'abcactionnews.com',\n",
       " 'amny.com',\n",
       " 'atlantaintownpaper.com',\n",
       " 'autonews.com',\n",
       " 'billypenn.com',\n",
       " 'boston.com',\n",
       " 'bostonherald.com',\n",
       " 'breitbart.com',\n",
       " 'cbsnews.com',\n",
       " 'chicagobusiness.com',\n",
       " 'chicagoreader.com',\n",
       " 'chicagotribune.com',\n",
       " 'dailyherald.com',\n",
       " 'denverpost.com',\n",
       " 'fox2now.com',\n",
       " 'fox5sandiego.com',\n",
       " 'foxnews.com',\n",
       " 'gothamist.com',\n",
       " 'houstonpress.com',\n",
       " 'huffingtonpost.com',\n",
       " 'kdvr.com',\n",
       " 'kplr11.com',\n",
       " 'kron4.com',\n",
       " 'ktla.com',\n",
       " 'kxan.com',\n",
       " 'laindependent.com',\n",
       " 'laobserved.com',\n",
       " 'latimes.com',\n",
       " 'laweekly.com',\n",
       " 'mercurynews.com',\n",
       " 'metrotimes.com',\n",
       " 'miamiherald.com',\n",
       " 'miaminewtimes.com',\n",
       " 'miamitodaynews.com',\n",
       " 'minnpost.com',\n",
       " 'nbcchicago.com',\n",
       " 'nbcdfw.com',\n",
       " 'nbclosangeles.com',\n",
       " 'nbcmiami.com',\n",
       " 'nbcnews.com',\n",
       " 'nbcnewyork.com',\n",
       " 'nbcphiladelphia.com',\n",
       " 'nbcsandiego.com',\n",
       " 'nbcwashington.com',\n",
       " 'news10.com',\n",
       " 'newsday.com',\n",
       " 'newsmax.com',\n",
       " 'newsweek.com',\n",
       " 'npr.org',\n",
       " 'nydailynews.com',\n",
       " 'nypost.com',\n",
       " 'nysun.com',\n",
       " 'nytimes.com',\n",
       " 'observer.com',\n",
       " 'pe.com',\n",
       " 'philly.com',\n",
       " 'phillyvoice.com',\n",
       " 'phoenixnewtimes.com',\n",
       " 'pix11.com',\n",
       " 'politico.com',\n",
       " 'pridepublishinggroup.com',\n",
       " 'riverfronttimes.com',\n",
       " 'seattlepi.com',\n",
       " 'seattletimes.com',\n",
       " 'stltoday.com',\n",
       " 'texasobserver.org',\n",
       " 'theonion.com',\n",
       " 'timesofsandiego.com',\n",
       " 'twincities.com',\n",
       " 'usatoday.com',\n",
       " 'villagevoice.com',\n",
       " 'westword.com',\n",
       " 'wfla.com',\n",
       " 'wgntv.com',\n",
       " 'whdh.com',\n",
       " 'wivb.com',\n",
       " 'wsvn.com',\n",
       " 'wtop.com',\n",
       " 'wxyz.com'}"
      ]
     },
     "execution_count": 70,
     "metadata": {},
     "output_type": "execute_result"
    }
   ],
   "source": [
    "sources_in_data - { \"reuters.com\", \"yahoo.com\" }"
   ]
  },
  {
   "cell_type": "code",
   "execution_count": 71,
   "metadata": {
    "scrolled": true
   },
   "outputs": [
    {
     "data": {
      "text/plain": [
       "['nytimes.com',\n",
       " 'huffingtonpost.com',\n",
       " 'foxnews.com',\n",
       " 'usatoday.com',\n",
       " 'politico.com',\n",
       " 'npr.org',\n",
       " 'latimes.com',\n",
       " 'nbcnews.com',\n",
       " 'cbsnews.com',\n",
       " 'nypost.com',\n",
       " 'nydailynews.com',\n",
       " 'breitbart.com',\n",
       " 'newsweek.com',\n",
       " 'denverpost.com',\n",
       " 'chicagotribune.com',\n",
       " 'theonion.com',\n",
       " 'newsmax.com',\n",
       " 'boston.com',\n",
       " 'miamiherald.com',\n",
       " 'mercurynews.com',\n",
       " 'seattletimes.com',\n",
       " 'philly.com',\n",
       " 'observer.com',\n",
       " 'stltoday.com',\n",
       " 'seattlepi.com',\n",
       " 'ktla.com',\n",
       " 'newsday.com',\n",
       " 'abc13.com',\n",
       " 'laweekly.com',\n",
       " 'bostonherald.com',\n",
       " 'wtop.com',\n",
       " 'wgntv.com',\n",
       " 'nbcnewyork.com',\n",
       " 'abc7news.com',\n",
       " 'kxan.com',\n",
       " 'kdvr.com',\n",
       " 'gothamist.com',\n",
       " 'autonews.com',\n",
       " 'twincities.com',\n",
       " 'nbcchicago.com',\n",
       " 'nbcwashington.com',\n",
       " 'phillyvoice.com',\n",
       " 'fox2now.com',\n",
       " 'nbclosangeles.com',\n",
       " 'miaminewtimes.com',\n",
       " 'villagevoice.com',\n",
       " 'westword.com',\n",
       " 'nbcphiladelphia.com',\n",
       " 'nbcsandiego.com',\n",
       " 'kron4.com']"
      ]
     },
     "execution_count": 71,
     "metadata": {},
     "output_type": "execute_result"
    }
   ],
   "source": [
    "top50_in_gdelt = [ s for s in sources if s in sources_in_data  - { \"reuters.com\", \"yahoo.com\" }][:50]\n",
    "top50_in_gdelt"
   ]
  },
  {
   "cell_type": "code",
   "execution_count": 72,
   "metadata": {},
   "outputs": [],
   "source": [
    "with open(\"data/top50_US_sources.pkl\", \"wb\") as f:\n",
    "    pickle.dump(top50_in_gdelt, f)"
   ]
  },
  {
   "cell_type": "code",
   "execution_count": 64,
   "metadata": {},
   "outputs": [],
   "source": [
    "in_gdelt = [ s for s in sources if s in sources_in_data ]\n",
    "with open(\"data/top83_US_sources.pkl\", \"wb\") as f:\n",
    "    pickle.dump(in_gdelt, f)"
   ]
  },
  {
   "cell_type": "code",
   "execution_count": null,
   "metadata": {},
   "outputs": [],
   "source": []
  }
 ],
 "metadata": {
  "kernelspec": {
   "display_name": "Python 3",
   "language": "python",
   "name": "python3"
  },
  "language_info": {
   "codemirror_mode": {
    "name": "ipython",
    "version": 3
   },
   "file_extension": ".py",
   "mimetype": "text/x-python",
   "name": "python",
   "nbconvert_exporter": "python",
   "pygments_lexer": "ipython3",
   "version": "3.6.5"
  }
 },
 "nbformat": 4,
 "nbformat_minor": 2
}
